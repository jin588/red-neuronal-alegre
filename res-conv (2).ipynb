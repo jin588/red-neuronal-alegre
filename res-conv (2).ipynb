{
 "cells": [
  {
   "cell_type": "code",
   "execution_count": 34,
   "metadata": {},
   "outputs": [],
   "source": [
    "import numpy as np\n",
    "import pandas as pd\n",
    "import matplotlib.pyplot as plt\n",
    "import seaborn as sns\n",
    "from sklearn.metrics import confusion_matrix\n",
    "import tensorflow as tf\n",
    "from tensorflow import keras\n",
    "from tensorflow.keras import layers,Sequential\n",
    "from tensorflow.python.client import device_lib"
   ]
  },
  {
   "cell_type": "code",
   "execution_count": 35,
   "metadata": {},
   "outputs": [
    {
     "name": "stdout",
     "output_type": "stream",
     "text": [
      "Found 28821 files belonging to 7 classes.\n",
      "Using 23057 files for training.\n",
      "Using 5764 files for validation.\n"
     ]
    }
   ],
   "source": [
    "image_size = (48, 48)\n",
    "batch_size = 64\n",
    "\n",
    "train_ds, val_ds = tf.keras.utils.image_dataset_from_directory(\n",
    "    \"data/data/images/train\",\n",
    "    label_mode='categorical',\n",
    "    color_mode=\"grayscale\",\n",
    "    validation_split=0.2,\n",
    "    subset=\"both\",\n",
    "    shuffle=True,\n",
    "    seed=666,\n",
    "    image_size=image_size,\n",
    "    batch_size=batch_size,\n",
    ")"
   ]
  },
  {
   "cell_type": "code",
   "execution_count": 36,
   "metadata": {},
   "outputs": [],
   "source": [
    "df_test = pd.read_csv(\"test_set.csv\")"
   ]
  },
  {
   "cell_type": "code",
   "execution_count": 37,
   "metadata": {},
   "outputs": [],
   "source": [
    "import cv2\n",
    "import os"
   ]
  },
  {
   "cell_type": "code",
   "execution_count": 38,
   "metadata": {},
   "outputs": [
    {
     "data": {
      "text/html": [
       "<div>\n",
       "<style scoped>\n",
       "    .dataframe tbody tr th:only-of-type {\n",
       "        vertical-align: middle;\n",
       "    }\n",
       "\n",
       "    .dataframe tbody tr th {\n",
       "        vertical-align: top;\n",
       "    }\n",
       "\n",
       "    .dataframe thead th {\n",
       "        text-align: right;\n",
       "    }\n",
       "</style>\n",
       "<table border=\"1\" class=\"dataframe\">\n",
       "  <thead>\n",
       "    <tr style=\"text-align: right;\">\n",
       "      <th></th>\n",
       "      <th>id_img</th>\n",
       "    </tr>\n",
       "  </thead>\n",
       "  <tbody>\n",
       "    <tr>\n",
       "      <th>0</th>\n",
       "      <td>10052</td>\n",
       "    </tr>\n",
       "    <tr>\n",
       "      <th>1</th>\n",
       "      <td>10065</td>\n",
       "    </tr>\n",
       "    <tr>\n",
       "      <th>2</th>\n",
       "      <td>10079</td>\n",
       "    </tr>\n",
       "    <tr>\n",
       "      <th>3</th>\n",
       "      <td>10095</td>\n",
       "    </tr>\n",
       "    <tr>\n",
       "      <th>4</th>\n",
       "      <td>10121</td>\n",
       "    </tr>\n",
       "    <tr>\n",
       "      <th>...</th>\n",
       "      <td>...</td>\n",
       "    </tr>\n",
       "    <tr>\n",
       "      <th>7061</th>\n",
       "      <td>9806</td>\n",
       "    </tr>\n",
       "    <tr>\n",
       "      <th>7062</th>\n",
       "      <td>9830</td>\n",
       "    </tr>\n",
       "    <tr>\n",
       "      <th>7063</th>\n",
       "      <td>9853</td>\n",
       "    </tr>\n",
       "    <tr>\n",
       "      <th>7064</th>\n",
       "      <td>9878</td>\n",
       "    </tr>\n",
       "    <tr>\n",
       "      <th>7065</th>\n",
       "      <td>993</td>\n",
       "    </tr>\n",
       "  </tbody>\n",
       "</table>\n",
       "<p>7066 rows × 1 columns</p>\n",
       "</div>"
      ],
      "text/plain": [
       "      id_img\n",
       "0      10052\n",
       "1      10065\n",
       "2      10079\n",
       "3      10095\n",
       "4      10121\n",
       "...      ...\n",
       "7061    9806\n",
       "7062    9830\n",
       "7063    9853\n",
       "7064    9878\n",
       "7065     993\n",
       "\n",
       "[7066 rows x 1 columns]"
      ]
     },
     "execution_count": 38,
     "metadata": {},
     "output_type": "execute_result"
    }
   ],
   "source": [
    "df_test"
   ]
  },
  {
   "cell_type": "code",
   "execution_count": 39,
   "metadata": {},
   "outputs": [],
   "source": [
    "image_path = os.getcwd() + \"\\\\data\\\\data\\\\images\\\\test\""
   ]
  },
  {
   "cell_type": "code",
   "execution_count": 40,
   "metadata": {},
   "outputs": [
    {
     "data": {
      "text/plain": [
       "'c:\\\\Users\\\\Usuario\\\\Desktop\\\\Proyecto CNN alegres\\\\red-neuronal-alegre\\\\data\\\\data\\\\images\\\\test'"
      ]
     },
     "execution_count": 40,
     "metadata": {},
     "output_type": "execute_result"
    }
   ],
   "source": [
    "image_path"
   ]
  },
  {
   "cell_type": "code",
   "execution_count": 41,
   "metadata": {},
   "outputs": [],
   "source": [
    "imagenes = {\"imagen\" : [], \"path\" : []}\n",
    "for file in os.listdir(image_path):\n",
    "    file2 = file.split(\".\")\n",
    "    imagenes[\"imagen\"].append(file2[0])\n",
    "    imagenes[\"path\"].append(os.path.join(image_path, file))\n"
   ]
  },
  {
   "cell_type": "code",
   "execution_count": 42,
   "metadata": {},
   "outputs": [],
   "source": [
    "df_test = pd.DataFrame(imagenes, columns=imagenes.keys())"
   ]
  },
  {
   "cell_type": "code",
   "execution_count": 43,
   "metadata": {},
   "outputs": [
    {
     "data": {
      "text/html": [
       "<div>\n",
       "<style scoped>\n",
       "    .dataframe tbody tr th:only-of-type {\n",
       "        vertical-align: middle;\n",
       "    }\n",
       "\n",
       "    .dataframe tbody tr th {\n",
       "        vertical-align: top;\n",
       "    }\n",
       "\n",
       "    .dataframe thead th {\n",
       "        text-align: right;\n",
       "    }\n",
       "</style>\n",
       "<table border=\"1\" class=\"dataframe\">\n",
       "  <thead>\n",
       "    <tr style=\"text-align: right;\">\n",
       "      <th></th>\n",
       "      <th>imagen</th>\n",
       "      <th>path</th>\n",
       "    </tr>\n",
       "  </thead>\n",
       "  <tbody>\n",
       "    <tr>\n",
       "      <th>0</th>\n",
       "      <td>10004</td>\n",
       "      <td>c:\\Users\\Usuario\\Desktop\\Proyecto CNN alegres\\...</td>\n",
       "    </tr>\n",
       "    <tr>\n",
       "      <th>1</th>\n",
       "      <td>10019</td>\n",
       "      <td>c:\\Users\\Usuario\\Desktop\\Proyecto CNN alegres\\...</td>\n",
       "    </tr>\n",
       "    <tr>\n",
       "      <th>2</th>\n",
       "      <td>10023</td>\n",
       "      <td>c:\\Users\\Usuario\\Desktop\\Proyecto CNN alegres\\...</td>\n",
       "    </tr>\n",
       "    <tr>\n",
       "      <th>3</th>\n",
       "      <td>10029</td>\n",
       "      <td>c:\\Users\\Usuario\\Desktop\\Proyecto CNN alegres\\...</td>\n",
       "    </tr>\n",
       "    <tr>\n",
       "      <th>4</th>\n",
       "      <td>1003</td>\n",
       "      <td>c:\\Users\\Usuario\\Desktop\\Proyecto CNN alegres\\...</td>\n",
       "    </tr>\n",
       "    <tr>\n",
       "      <th>...</th>\n",
       "      <td>...</td>\n",
       "      <td>...</td>\n",
       "    </tr>\n",
       "    <tr>\n",
       "      <th>7061</th>\n",
       "      <td>9977</td>\n",
       "      <td>c:\\Users\\Usuario\\Desktop\\Proyecto CNN alegres\\...</td>\n",
       "    </tr>\n",
       "    <tr>\n",
       "      <th>7062</th>\n",
       "      <td>9979</td>\n",
       "      <td>c:\\Users\\Usuario\\Desktop\\Proyecto CNN alegres\\...</td>\n",
       "    </tr>\n",
       "    <tr>\n",
       "      <th>7063</th>\n",
       "      <td>9982</td>\n",
       "      <td>c:\\Users\\Usuario\\Desktop\\Proyecto CNN alegres\\...</td>\n",
       "    </tr>\n",
       "    <tr>\n",
       "      <th>7064</th>\n",
       "      <td>9984</td>\n",
       "      <td>c:\\Users\\Usuario\\Desktop\\Proyecto CNN alegres\\...</td>\n",
       "    </tr>\n",
       "    <tr>\n",
       "      <th>7065</th>\n",
       "      <td>9993</td>\n",
       "      <td>c:\\Users\\Usuario\\Desktop\\Proyecto CNN alegres\\...</td>\n",
       "    </tr>\n",
       "  </tbody>\n",
       "</table>\n",
       "<p>7066 rows × 2 columns</p>\n",
       "</div>"
      ],
      "text/plain": [
       "     imagen                                               path\n",
       "0     10004  c:\\Users\\Usuario\\Desktop\\Proyecto CNN alegres\\...\n",
       "1     10019  c:\\Users\\Usuario\\Desktop\\Proyecto CNN alegres\\...\n",
       "2     10023  c:\\Users\\Usuario\\Desktop\\Proyecto CNN alegres\\...\n",
       "3     10029  c:\\Users\\Usuario\\Desktop\\Proyecto CNN alegres\\...\n",
       "4      1003  c:\\Users\\Usuario\\Desktop\\Proyecto CNN alegres\\...\n",
       "...     ...                                                ...\n",
       "7061   9977  c:\\Users\\Usuario\\Desktop\\Proyecto CNN alegres\\...\n",
       "7062   9979  c:\\Users\\Usuario\\Desktop\\Proyecto CNN alegres\\...\n",
       "7063   9982  c:\\Users\\Usuario\\Desktop\\Proyecto CNN alegres\\...\n",
       "7064   9984  c:\\Users\\Usuario\\Desktop\\Proyecto CNN alegres\\...\n",
       "7065   9993  c:\\Users\\Usuario\\Desktop\\Proyecto CNN alegres\\...\n",
       "\n",
       "[7066 rows x 2 columns]"
      ]
     },
     "execution_count": 43,
     "metadata": {},
     "output_type": "execute_result"
    }
   ],
   "source": [
    "df_test"
   ]
  },
  {
   "cell_type": "code",
   "execution_count": 44,
   "metadata": {},
   "outputs": [],
   "source": [
    "def cargar_y_convertir_imagen(ruta_imagen):\n",
    "    image = cv2.imread(ruta_imagen, cv2.IMREAD_GRAYSCALE)\n",
    "    image_array = np.array(image)\n",
    "    return image_array\n",
    "\n",
    "df_test['imagenes'] =df_test['path'].apply(cargar_y_convertir_imagen)"
   ]
  },
  {
   "cell_type": "code",
   "execution_count": 45,
   "metadata": {},
   "outputs": [
    {
     "data": {
      "text/html": [
       "<div>\n",
       "<style scoped>\n",
       "    .dataframe tbody tr th:only-of-type {\n",
       "        vertical-align: middle;\n",
       "    }\n",
       "\n",
       "    .dataframe tbody tr th {\n",
       "        vertical-align: top;\n",
       "    }\n",
       "\n",
       "    .dataframe thead th {\n",
       "        text-align: right;\n",
       "    }\n",
       "</style>\n",
       "<table border=\"1\" class=\"dataframe\">\n",
       "  <thead>\n",
       "    <tr style=\"text-align: right;\">\n",
       "      <th></th>\n",
       "      <th>imagen</th>\n",
       "      <th>path</th>\n",
       "      <th>imagenes</th>\n",
       "    </tr>\n",
       "  </thead>\n",
       "  <tbody>\n",
       "    <tr>\n",
       "      <th>0</th>\n",
       "      <td>10004</td>\n",
       "      <td>c:\\Users\\Usuario\\Desktop\\Proyecto CNN alegres\\...</td>\n",
       "      <td>[[1, 1, 1, 2, 7, 15, 16, 9, 11, 14, 13, 14, 31...</td>\n",
       "    </tr>\n",
       "    <tr>\n",
       "      <th>1</th>\n",
       "      <td>10019</td>\n",
       "      <td>c:\\Users\\Usuario\\Desktop\\Proyecto CNN alegres\\...</td>\n",
       "      <td>[[159, 157, 158, 166, 170, 170, 172, 171, 166,...</td>\n",
       "    </tr>\n",
       "    <tr>\n",
       "      <th>2</th>\n",
       "      <td>10023</td>\n",
       "      <td>c:\\Users\\Usuario\\Desktop\\Proyecto CNN alegres\\...</td>\n",
       "      <td>[[195, 198, 193, 190, 140, 70, 54, 88, 169, 21...</td>\n",
       "    </tr>\n",
       "    <tr>\n",
       "      <th>3</th>\n",
       "      <td>10029</td>\n",
       "      <td>c:\\Users\\Usuario\\Desktop\\Proyecto CNN alegres\\...</td>\n",
       "      <td>[[41, 48, 57, 66, 68, 67, 75, 85, 94, 105, 109...</td>\n",
       "    </tr>\n",
       "    <tr>\n",
       "      <th>4</th>\n",
       "      <td>1003</td>\n",
       "      <td>c:\\Users\\Usuario\\Desktop\\Proyecto CNN alegres\\...</td>\n",
       "      <td>[[44, 33, 21, 23, 29, 29, 34, 37, 40, 40, 45, ...</td>\n",
       "    </tr>\n",
       "    <tr>\n",
       "      <th>...</th>\n",
       "      <td>...</td>\n",
       "      <td>...</td>\n",
       "      <td>...</td>\n",
       "    </tr>\n",
       "    <tr>\n",
       "      <th>7061</th>\n",
       "      <td>9977</td>\n",
       "      <td>c:\\Users\\Usuario\\Desktop\\Proyecto CNN alegres\\...</td>\n",
       "      <td>[[178, 139, 130, 131, 159, 188, 183, 239, 249,...</td>\n",
       "    </tr>\n",
       "    <tr>\n",
       "      <th>7062</th>\n",
       "      <td>9979</td>\n",
       "      <td>c:\\Users\\Usuario\\Desktop\\Proyecto CNN alegres\\...</td>\n",
       "      <td>[[243, 243, 238, 196, 185, 176, 168, 162, 157,...</td>\n",
       "    </tr>\n",
       "    <tr>\n",
       "      <th>7063</th>\n",
       "      <td>9982</td>\n",
       "      <td>c:\\Users\\Usuario\\Desktop\\Proyecto CNN alegres\\...</td>\n",
       "      <td>[[203, 229, 234, 238, 233, 232, 238, 235, 229,...</td>\n",
       "    </tr>\n",
       "    <tr>\n",
       "      <th>7064</th>\n",
       "      <td>9984</td>\n",
       "      <td>c:\\Users\\Usuario\\Desktop\\Proyecto CNN alegres\\...</td>\n",
       "      <td>[[57, 56, 57, 63, 61, 56, 58, 58, 61, 72, 69, ...</td>\n",
       "    </tr>\n",
       "    <tr>\n",
       "      <th>7065</th>\n",
       "      <td>9993</td>\n",
       "      <td>c:\\Users\\Usuario\\Desktop\\Proyecto CNN alegres\\...</td>\n",
       "      <td>[[107, 111, 106, 119, 105, 13, 6, 10, 9, 13, 1...</td>\n",
       "    </tr>\n",
       "  </tbody>\n",
       "</table>\n",
       "<p>7066 rows × 3 columns</p>\n",
       "</div>"
      ],
      "text/plain": [
       "     imagen                                               path  \\\n",
       "0     10004  c:\\Users\\Usuario\\Desktop\\Proyecto CNN alegres\\...   \n",
       "1     10019  c:\\Users\\Usuario\\Desktop\\Proyecto CNN alegres\\...   \n",
       "2     10023  c:\\Users\\Usuario\\Desktop\\Proyecto CNN alegres\\...   \n",
       "3     10029  c:\\Users\\Usuario\\Desktop\\Proyecto CNN alegres\\...   \n",
       "4      1003  c:\\Users\\Usuario\\Desktop\\Proyecto CNN alegres\\...   \n",
       "...     ...                                                ...   \n",
       "7061   9977  c:\\Users\\Usuario\\Desktop\\Proyecto CNN alegres\\...   \n",
       "7062   9979  c:\\Users\\Usuario\\Desktop\\Proyecto CNN alegres\\...   \n",
       "7063   9982  c:\\Users\\Usuario\\Desktop\\Proyecto CNN alegres\\...   \n",
       "7064   9984  c:\\Users\\Usuario\\Desktop\\Proyecto CNN alegres\\...   \n",
       "7065   9993  c:\\Users\\Usuario\\Desktop\\Proyecto CNN alegres\\...   \n",
       "\n",
       "                                               imagenes  \n",
       "0     [[1, 1, 1, 2, 7, 15, 16, 9, 11, 14, 13, 14, 31...  \n",
       "1     [[159, 157, 158, 166, 170, 170, 172, 171, 166,...  \n",
       "2     [[195, 198, 193, 190, 140, 70, 54, 88, 169, 21...  \n",
       "3     [[41, 48, 57, 66, 68, 67, 75, 85, 94, 105, 109...  \n",
       "4     [[44, 33, 21, 23, 29, 29, 34, 37, 40, 40, 45, ...  \n",
       "...                                                 ...  \n",
       "7061  [[178, 139, 130, 131, 159, 188, 183, 239, 249,...  \n",
       "7062  [[243, 243, 238, 196, 185, 176, 168, 162, 157,...  \n",
       "7063  [[203, 229, 234, 238, 233, 232, 238, 235, 229,...  \n",
       "7064  [[57, 56, 57, 63, 61, 56, 58, 58, 61, 72, 69, ...  \n",
       "7065  [[107, 111, 106, 119, 105, 13, 6, 10, 9, 13, 1...  \n",
       "\n",
       "[7066 rows x 3 columns]"
      ]
     },
     "execution_count": 45,
     "metadata": {},
     "output_type": "execute_result"
    }
   ],
   "source": [
    "df_test"
   ]
  },
  {
   "cell_type": "code",
   "execution_count": 46,
   "metadata": {},
   "outputs": [],
   "source": [
    "from keras.layers import Dense, Input, Dropout, GlobalAveragePooling2D, Flatten, Conv2D, BatchNormalization, Activation, MaxPooling2D\n",
    "from keras.models import Model, Sequential\n",
    "from keras.optimizers import Adam\n",
    "\n",
    "# number of possible label values\n",
    "nb_classes = 7\n",
    "\n",
    "# Initialising the CNN\n",
    "model = Sequential()\n",
    "\n",
    "# 1 - Convolution\n",
    "model.add(Conv2D(64,(3,3), padding='same', input_shape=(48, 48,1)))\n",
    "model.add(BatchNormalization())\n",
    "model.add(Activation('relu'))\n",
    "model.add(MaxPooling2D(pool_size=(2, 2)))\n",
    "model.add(Dropout(0.25))\n",
    "\n",
    "# 2nd Convolution layer\n",
    "model.add(Conv2D(128,(5,5), padding='same'))\n",
    "model.add(BatchNormalization())\n",
    "model.add(Activation('relu'))\n",
    "model.add(MaxPooling2D(pool_size=(2, 2)))\n",
    "model.add(Dropout(0.25))\n",
    "\n",
    "# 3rd Convolution layer\n",
    "model.add(Conv2D(512,(3,3), padding='same'))\n",
    "model.add(BatchNormalization())\n",
    "model.add(Activation('relu'))\n",
    "model.add(MaxPooling2D(pool_size=(2, 2)))\n",
    "model.add(Dropout(0.25))\n",
    "\n",
    "# 4th Convolution layer\n",
    "model.add(Conv2D(512,(3,3), padding='same'))\n",
    "model.add(BatchNormalization())\n",
    "model.add(Activation('relu'))\n",
    "model.add(MaxPooling2D(pool_size=(2, 2)))\n",
    "model.add(Dropout(0.25))\n",
    "\n",
    "# Flattening\n",
    "model.add(Flatten())\n",
    "\n",
    "# Fully connected layer 1st layer\n",
    "model.add(Dense(256))\n",
    "model.add(BatchNormalization())\n",
    "model.add(Activation('relu'))\n",
    "model.add(Dropout(0.25))\n",
    "\n",
    "# Fully connected layer 2nd layer\n",
    "model.add(Dense(512))\n",
    "model.add(BatchNormalization())\n",
    "model.add(Activation('relu'))\n",
    "model.add(Dropout(0.25))\n",
    "\n",
    "model.add(Dense(nb_classes, activation='softmax'))\n",
    "\n",
    "model.compile( loss='categorical_crossentropy', metrics=['accuracy'])"
   ]
  },
  {
   "cell_type": "code",
   "execution_count": 47,
   "metadata": {},
   "outputs": [
    {
     "name": "stdout",
     "output_type": "stream",
     "text": [
      "Model: \"sequential_3\"\n",
      "_________________________________________________________________\n",
      " Layer (type)                Output Shape              Param #   \n",
      "=================================================================\n",
      " conv2d_12 (Conv2D)          (None, 48, 48, 64)        640       \n",
      "                                                                 \n",
      " batch_normalization_18 (Ba  (None, 48, 48, 64)        256       \n",
      " tchNormalization)                                               \n",
      "                                                                 \n",
      " activation_18 (Activation)  (None, 48, 48, 64)        0         \n",
      "                                                                 \n",
      " max_pooling2d_12 (MaxPooli  (None, 24, 24, 64)        0         \n",
      " ng2D)                                                           \n",
      "                                                                 \n",
      " dropout_18 (Dropout)        (None, 24, 24, 64)        0         \n",
      "                                                                 \n",
      " conv2d_13 (Conv2D)          (None, 24, 24, 128)       204928    \n",
      "                                                                 \n",
      " batch_normalization_19 (Ba  (None, 24, 24, 128)       512       \n",
      " tchNormalization)                                               \n",
      "                                                                 \n",
      " activation_19 (Activation)  (None, 24, 24, 128)       0         \n",
      "                                                                 \n",
      " max_pooling2d_13 (MaxPooli  (None, 12, 12, 128)       0         \n",
      " ng2D)                                                           \n",
      "                                                                 \n",
      " dropout_19 (Dropout)        (None, 12, 12, 128)       0         \n",
      "                                                                 \n",
      " conv2d_14 (Conv2D)          (None, 12, 12, 512)       590336    \n",
      "                                                                 \n",
      " batch_normalization_20 (Ba  (None, 12, 12, 512)       2048      \n",
      " tchNormalization)                                               \n",
      "                                                                 \n",
      " activation_20 (Activation)  (None, 12, 12, 512)       0         \n",
      "                                                                 \n",
      " max_pooling2d_14 (MaxPooli  (None, 6, 6, 512)         0         \n",
      " ng2D)                                                           \n",
      "                                                                 \n",
      " dropout_20 (Dropout)        (None, 6, 6, 512)         0         \n",
      "                                                                 \n",
      " conv2d_15 (Conv2D)          (None, 6, 6, 512)         2359808   \n",
      "                                                                 \n",
      " batch_normalization_21 (Ba  (None, 6, 6, 512)         2048      \n",
      " tchNormalization)                                               \n",
      "                                                                 \n",
      " activation_21 (Activation)  (None, 6, 6, 512)         0         \n",
      "                                                                 \n",
      " max_pooling2d_15 (MaxPooli  (None, 3, 3, 512)         0         \n",
      " ng2D)                                                           \n",
      "                                                                 \n",
      " dropout_21 (Dropout)        (None, 3, 3, 512)         0         \n",
      "                                                                 \n",
      " flatten_3 (Flatten)         (None, 4608)              0         \n",
      "                                                                 \n",
      " dense_9 (Dense)             (None, 256)               1179904   \n",
      "                                                                 \n",
      " batch_normalization_22 (Ba  (None, 256)               1024      \n",
      " tchNormalization)                                               \n",
      "                                                                 \n",
      " activation_22 (Activation)  (None, 256)               0         \n",
      "                                                                 \n",
      " dropout_22 (Dropout)        (None, 256)               0         \n",
      "                                                                 \n",
      " dense_10 (Dense)            (None, 512)               131584    \n",
      "                                                                 \n",
      " batch_normalization_23 (Ba  (None, 512)               2048      \n",
      " tchNormalization)                                               \n",
      "                                                                 \n",
      " activation_23 (Activation)  (None, 512)               0         \n",
      "                                                                 \n",
      " dropout_23 (Dropout)        (None, 512)               0         \n",
      "                                                                 \n",
      " dense_11 (Dense)            (None, 7)                 3591      \n",
      "                                                                 \n",
      "=================================================================\n",
      "Total params: 4478727 (17.08 MB)\n",
      "Trainable params: 4474759 (17.07 MB)\n",
      "Non-trainable params: 3968 (15.50 KB)\n",
      "_________________________________________________________________\n"
     ]
    }
   ],
   "source": [
    "model.summary()"
   ]
  },
  {
   "cell_type": "code",
   "execution_count": 48,
   "metadata": {},
   "outputs": [
    {
     "name": "stdout",
     "output_type": "stream",
     "text": [
      "Epoch 1/15\n",
      "361/361 [==============================] - 133s 359ms/step - loss: 1.7808 - accuracy: 0.3183 - val_loss: 1.5654 - val_accuracy: 0.3843\n",
      "Epoch 2/15\n",
      "361/361 [==============================] - 139s 385ms/step - loss: 1.4356 - accuracy: 0.4447 - val_loss: 1.5009 - val_accuracy: 0.4013\n",
      "Epoch 3/15\n",
      "361/361 [==============================] - 135s 374ms/step - loss: 1.2861 - accuracy: 0.5055 - val_loss: 1.3664 - val_accuracy: 0.4981\n",
      "Epoch 4/15\n",
      "361/361 [==============================] - 133s 367ms/step - loss: 1.2027 - accuracy: 0.5387 - val_loss: 1.3440 - val_accuracy: 0.4842\n",
      "Epoch 5/15\n",
      "361/361 [==============================] - 139s 384ms/step - loss: 1.1405 - accuracy: 0.5651 - val_loss: 1.2370 - val_accuracy: 0.5220\n",
      "Epoch 6/15\n",
      "361/361 [==============================] - 139s 386ms/step - loss: 1.0855 - accuracy: 0.5869 - val_loss: 1.3269 - val_accuracy: 0.4781\n",
      "Epoch 7/15\n",
      "361/361 [==============================] - 138s 382ms/step - loss: 1.0348 - accuracy: 0.6043 - val_loss: 1.3743 - val_accuracy: 0.4835\n",
      "Epoch 8/15\n",
      "361/361 [==============================] - 131s 362ms/step - loss: 0.9945 - accuracy: 0.6231 - val_loss: 1.2820 - val_accuracy: 0.5116\n",
      "Epoch 9/15\n",
      "361/361 [==============================] - 136s 376ms/step - loss: 0.9457 - accuracy: 0.6415 - val_loss: 1.3888 - val_accuracy: 0.4700\n",
      "Epoch 10/15\n",
      "361/361 [==============================] - 139s 384ms/step - loss: 0.9016 - accuracy: 0.6595 - val_loss: 1.3748 - val_accuracy: 0.4833\n"
     ]
    }
   ],
   "source": [
    "epochs = 15\n",
    "\n",
    "callbacks = [\n",
    "    keras.callbacks.ModelCheckpoint(\"models/save_at_{epoch}.keras\"),\n",
    "    keras.callbacks.EarlyStopping(patience=5)\n",
    "]\n",
    "model.compile(\n",
    "    optimizer=keras.optimizers.Adam(learning_rate=1e-3),\n",
    "    loss=\"categorical_crossentropy\",\n",
    "    metrics=[\"accuracy\"],\n",
    ")\n",
    "history = model.fit(\n",
    "    train_ds,\n",
    "    epochs=epochs,\n",
    "    callbacks=callbacks,\n",
    "    validation_data=val_ds,\n",
    ")"
   ]
  },
  {
   "cell_type": "code",
   "execution_count": null,
   "metadata": {},
   "outputs": [],
   "source": [
    "from tensorflow.keras.models import load_model\n",
    "\n",
    "best_model = None\n",
    "best_val_accuracy = 0\n",
    "\n",
    "for epoch in range(1, 16):\n",
    "    model = load_model(f\"models/save_at_{epoch}.keras\")\n",
    "    loss, accuracy = model.evaluate(val_ds)\n",
    "    if accuracy > best_val_accuracy:\n",
    "        best_val_accuracy = accuracy\n",
    "        best_model = model\n",
    "\n",
    "print(\"El mejor modelo es:\", best_model)"
   ]
  },
  {
   "cell_type": "code",
   "execution_count": null,
   "metadata": {},
   "outputs": [],
   "source": [
    "\n",
    "def plot_history_loss(history):\n",
    "    tr_acc = history.history['accuracy']\n",
    "    tr_loss = history.history['loss']\n",
    "    val_acc = history.history['val_accuracy']\n",
    "    val_loss = history.history['val_loss']\n",
    "    index_loss = np.argmin(val_loss)\n",
    "    val_lowest = val_loss[index_loss]\n",
    "    index_acc = np.argmax(val_acc)\n",
    "    acc_highest = val_acc[index_acc]\n",
    "    Epochs = [i+1 for i in range(len(tr_acc))]\n",
    "    loss_label = f'best epoch= {str(index_loss + 1)}'\n",
    "    acc_label = f'best epoch= {str(index_acc + 1)}'\n",
    "    # Plot training history\n",
    "    plt.figure(figsize= (20, 8))\n",
    "    plt.style.use('fivethirtyeight')\n",
    "    plt.subplot(1, 2, 1)\n",
    "    plt.plot(Epochs, tr_loss, 'r', label= 'Training loss')\n",
    "    plt.plot(Epochs, val_loss, 'g', label= 'Validation loss')\n",
    "    plt.scatter(index_loss + 1, val_lowest, s= 150, c= 'blue', label= loss_label)\n",
    "    plt.title('Training and Validation Loss')\n",
    "    plt.xlabel('Epochs')\n",
    "    plt.ylabel('Loss')\n",
    "    plt.legend()\n",
    "    plt.subplot(1, 2, 2)\n",
    "    plt.plot(Epochs, tr_acc, 'r', label= 'Training Accuracy')\n",
    "    plt.plot(Epochs, val_acc, 'g', label= 'Validation Accuracy')\n",
    "    plt.scatter(index_acc + 1 , acc_highest, s= 150, c= 'blue', label= acc_label)\n",
    "    plt.title('Training and Validation Accuracy')\n",
    "    plt.xlabel('Epochs')\n",
    "    plt.ylabel('Accuracy')\n",
    "    plt.legend()\n",
    "\n",
    "    plt.tight_layout\n",
    "    plt.show()\n"
   ]
  },
  {
   "cell_type": "code",
   "execution_count": 50,
   "metadata": {},
   "outputs": [],
   "source": [
    "TEST_IMAGE_PATH = os.getcwd() + '/data/data/images/test'"
   ]
  },
  {
   "cell_type": "code",
   "execution_count": 51,
   "metadata": {},
   "outputs": [],
   "source": [
    "list_img = []"
   ]
  },
  {
   "cell_type": "code",
   "execution_count": 52,
   "metadata": {},
   "outputs": [],
   "source": [
    "for file in os.listdir(TEST_IMAGE_PATH):\n",
    "    try:\n",
    "        file_path = os.path.join(TEST_IMAGE_PATH, file)\n",
    "        img = cv2.imread(file_path, cv2.IMREAD_GRAYSCALE)\n",
    "        list_img.append(img.flatten())\n",
    "    except Exception as e:\n",
    "        print(\"Error: \",e)"
   ]
  },
  {
   "cell_type": "code",
   "execution_count": 53,
   "metadata": {},
   "outputs": [
    {
     "data": {
      "text/plain": [
       "(2304,)"
      ]
     },
     "execution_count": 53,
     "metadata": {},
     "output_type": "execute_result"
    }
   ],
   "source": [
    "list_img[0].shape"
   ]
  },
  {
   "cell_type": "code",
   "execution_count": null,
   "metadata": {},
   "outputs": [],
   "source": [
    "plot_history_loss(history)"
   ]
  },
  {
   "cell_type": "code",
   "execution_count": 55,
   "metadata": {},
   "outputs": [],
   "source": [
    "from tensorflow.keras.models import load_model\n",
    "\n",
    "final_modal = load_model(\"models/save_at_10.keras\")"
   ]
  },
  {
   "cell_type": "code",
   "execution_count": 65,
   "metadata": {},
   "outputs": [],
   "source": [
    "X_test = np.stack(df_test['imagenes'].tolist())\n",
    "X_test = np.expand_dims(X_test, axis=-1)\n",
    "#X_test = np.repeat(X_test, 3, axis=-1)"
   ]
  },
  {
   "cell_type": "code",
   "execution_count": 66,
   "metadata": {},
   "outputs": [
    {
     "data": {
      "text/plain": [
       "(7066, 48, 48, 1)"
      ]
     },
     "execution_count": 66,
     "metadata": {},
     "output_type": "execute_result"
    }
   ],
   "source": [
    "X_test.shape"
   ]
  },
  {
   "cell_type": "code",
   "execution_count": 67,
   "metadata": {},
   "outputs": [],
   "source": [
    "X_test = X_test / 255.0"
   ]
  },
  {
   "cell_type": "code",
   "execution_count": 68,
   "metadata": {},
   "outputs": [
    {
     "data": {
      "text/plain": [
       "['angry', 'disgust', 'fear', 'happy', 'neutral', 'sad', 'surprise']"
      ]
     },
     "execution_count": 68,
     "metadata": {},
     "output_type": "execute_result"
    }
   ],
   "source": [
    "class_names = train_ds.class_names\n",
    "class_names"
   ]
  },
  {
   "cell_type": "code",
   "execution_count": 69,
   "metadata": {},
   "outputs": [
    {
     "name": "stdout",
     "output_type": "stream",
     "text": [
      "221/221 [==============================] - 11s 47ms/step\n"
     ]
    },
    {
     "data": {
      "text/plain": [
       "array([[0.1425497 , 0.00091945, 0.04819369, ..., 0.26819044, 0.406098  ,\n",
       "        0.04182393],\n",
       "       [0.14250109, 0.00092515, 0.04818733, ..., 0.26786086, 0.40620732,\n",
       "        0.04166403],\n",
       "       [0.1425876 , 0.00092523, 0.04815482, ..., 0.26641604, 0.4070518 ,\n",
       "        0.04180638],\n",
       "       ...,\n",
       "       [0.14227545, 0.00092387, 0.04808681, ..., 0.26762414, 0.40662014,\n",
       "        0.04190677],\n",
       "       [0.14276549, 0.00091763, 0.04820224, ..., 0.26867828, 0.40503547,\n",
       "        0.0417841 ],\n",
       "       [0.1432239 , 0.0009157 , 0.04811917, ..., 0.27033585, 0.40420878,\n",
       "        0.04166289]], dtype=float32)"
      ]
     },
     "execution_count": 69,
     "metadata": {},
     "output_type": "execute_result"
    }
   ],
   "source": [
    "y_pred = final_modal.predict(X_test)\n",
    "y_pred\n"
   ]
  },
  {
   "cell_type": "code",
   "execution_count": null,
   "metadata": {},
   "outputs": [
    {
     "ename": "IndexError",
     "evalue": "list index out of range",
     "output_type": "error",
     "traceback": [
      "\u001b[1;31m---------------------------------------------------------------------------\u001b[0m",
      "\u001b[1;31mIndexError\u001b[0m                                Traceback (most recent call last)",
      "\u001b[1;32mc:\\Users\\Usuario\\Desktop\\Proyecto CNN alegres\\red-neuronal-alegre\\res-conv (2).ipynb Cell 31\u001b[0m line \u001b[0;36m2\n\u001b[0;32m      <a href='vscode-notebook-cell:/c%3A/Users/Usuario/Desktop/Proyecto%20CNN%20alegres/red-neuronal-alegre/res-conv%20%282%29.ipynb#Y110sZmlsZQ%3D%3D?line=0'>1</a>\u001b[0m predicted_label \u001b[39m=\u001b[39m np\u001b[39m.\u001b[39margmax(y_pred)\n\u001b[1;32m----> <a href='vscode-notebook-cell:/c%3A/Users/Usuario/Desktop/Proyecto%20CNN%20alegres/red-neuronal-alegre/res-conv%20%282%29.ipynb#Y110sZmlsZQ%3D%3D?line=1'>2</a>\u001b[0m predicted_label_name \u001b[39m=\u001b[39m class_names[predicted_label]\n\u001b[0;32m      <a href='vscode-notebook-cell:/c%3A/Users/Usuario/Desktop/Proyecto%20CNN%20alegres/red-neuronal-alegre/res-conv%20%282%29.ipynb#Y110sZmlsZQ%3D%3D?line=2'>3</a>\u001b[0m \u001b[39mprint\u001b[39m(y_pred)\n\u001b[0;32m      <a href='vscode-notebook-cell:/c%3A/Users/Usuario/Desktop/Proyecto%20CNN%20alegres/red-neuronal-alegre/res-conv%20%282%29.ipynb#Y110sZmlsZQ%3D%3D?line=3'>4</a>\u001b[0m \u001b[39mprint\u001b[39m(\u001b[39m\"\u001b[39m\u001b[39mClase predicha:\u001b[39m\u001b[39m\"\u001b[39m, predicted_label_name)\n",
      "\u001b[1;31mIndexError\u001b[0m: list index out of range"
     ]
    }
   ],
   "source": [
    "\"\"\"\n",
    "predicted_label = np.argmax(y_pred)\n",
    "predicted_label_name = class_names[predicted_label]\n",
    "print(y_pred)\n",
    "print(\"Clase predicha:\", predicted_label_name)\n",
    "\"\"\""
   ]
  },
  {
   "cell_type": "code",
   "execution_count": null,
   "metadata": {},
   "outputs": [
    {
     "name": "stdout",
     "output_type": "stream",
     "text": [
      "644\n"
     ]
    }
   ],
   "source": [
    "predicted_label = np.argmax(y_pred)\n",
    "print(predicted_label)"
   ]
  },
  {
   "cell_type": "code",
   "execution_count": null,
   "metadata": {},
   "outputs": [
    {
     "data": {
      "text/plain": [
       "array([4.2934707e-01, 1.9751508e-04, 5.6709602e-02, 4.9945887e-02,\n",
       "       1.6233388e-01, 2.9200563e-01, 9.4604148e-03], dtype=float32)"
      ]
     },
     "execution_count": 111,
     "metadata": {},
     "output_type": "execute_result"
    }
   ],
   "source": [
    "y_pred[0]"
   ]
  },
  {
   "cell_type": "code",
   "execution_count": null,
   "metadata": {},
   "outputs": [
    {
     "data": {
      "text/html": [
       "<div>\n",
       "<style scoped>\n",
       "    .dataframe tbody tr th:only-of-type {\n",
       "        vertical-align: middle;\n",
       "    }\n",
       "\n",
       "    .dataframe tbody tr th {\n",
       "        vertical-align: top;\n",
       "    }\n",
       "\n",
       "    .dataframe thead th {\n",
       "        text-align: right;\n",
       "    }\n",
       "</style>\n",
       "<table border=\"1\" class=\"dataframe\">\n",
       "  <thead>\n",
       "    <tr style=\"text-align: right;\">\n",
       "      <th></th>\n",
       "      <th>imagen</th>\n",
       "      <th>path</th>\n",
       "      <th>imagenes</th>\n",
       "    </tr>\n",
       "  </thead>\n",
       "  <tbody>\n",
       "    <tr>\n",
       "      <th>0</th>\n",
       "      <td>10004.jpg</td>\n",
       "      <td>c:\\Users\\Usuario\\Desktop\\Proyecto CNN alegres\\...</td>\n",
       "      <td>[[1, 1, 1, 2, 7, 15, 16, 9, 11, 14, 13, 14, 31...</td>\n",
       "    </tr>\n",
       "    <tr>\n",
       "      <th>1</th>\n",
       "      <td>10019.jpg</td>\n",
       "      <td>c:\\Users\\Usuario\\Desktop\\Proyecto CNN alegres\\...</td>\n",
       "      <td>[[159, 157, 158, 166, 170, 170, 172, 171, 166,...</td>\n",
       "    </tr>\n",
       "    <tr>\n",
       "      <th>2</th>\n",
       "      <td>10023.jpg</td>\n",
       "      <td>c:\\Users\\Usuario\\Desktop\\Proyecto CNN alegres\\...</td>\n",
       "      <td>[[195, 198, 193, 190, 140, 70, 54, 88, 169, 21...</td>\n",
       "    </tr>\n",
       "    <tr>\n",
       "      <th>3</th>\n",
       "      <td>10029.jpg</td>\n",
       "      <td>c:\\Users\\Usuario\\Desktop\\Proyecto CNN alegres\\...</td>\n",
       "      <td>[[41, 48, 57, 66, 68, 67, 75, 85, 94, 105, 109...</td>\n",
       "    </tr>\n",
       "    <tr>\n",
       "      <th>4</th>\n",
       "      <td>1003.jpg</td>\n",
       "      <td>c:\\Users\\Usuario\\Desktop\\Proyecto CNN alegres\\...</td>\n",
       "      <td>[[44, 33, 21, 23, 29, 29, 34, 37, 40, 40, 45, ...</td>\n",
       "    </tr>\n",
       "    <tr>\n",
       "      <th>...</th>\n",
       "      <td>...</td>\n",
       "      <td>...</td>\n",
       "      <td>...</td>\n",
       "    </tr>\n",
       "    <tr>\n",
       "      <th>7061</th>\n",
       "      <td>9977.jpg</td>\n",
       "      <td>c:\\Users\\Usuario\\Desktop\\Proyecto CNN alegres\\...</td>\n",
       "      <td>[[178, 139, 130, 131, 159, 188, 183, 239, 249,...</td>\n",
       "    </tr>\n",
       "    <tr>\n",
       "      <th>7062</th>\n",
       "      <td>9979.jpg</td>\n",
       "      <td>c:\\Users\\Usuario\\Desktop\\Proyecto CNN alegres\\...</td>\n",
       "      <td>[[243, 243, 238, 196, 185, 176, 168, 162, 157,...</td>\n",
       "    </tr>\n",
       "    <tr>\n",
       "      <th>7063</th>\n",
       "      <td>9982.jpg</td>\n",
       "      <td>c:\\Users\\Usuario\\Desktop\\Proyecto CNN alegres\\...</td>\n",
       "      <td>[[203, 229, 234, 238, 233, 232, 238, 235, 229,...</td>\n",
       "    </tr>\n",
       "    <tr>\n",
       "      <th>7064</th>\n",
       "      <td>9984.jpg</td>\n",
       "      <td>c:\\Users\\Usuario\\Desktop\\Proyecto CNN alegres\\...</td>\n",
       "      <td>[[57, 56, 57, 63, 61, 56, 58, 58, 61, 72, 69, ...</td>\n",
       "    </tr>\n",
       "    <tr>\n",
       "      <th>7065</th>\n",
       "      <td>9993.jpg</td>\n",
       "      <td>c:\\Users\\Usuario\\Desktop\\Proyecto CNN alegres\\...</td>\n",
       "      <td>[[107, 111, 106, 119, 105, 13, 6, 10, 9, 13, 1...</td>\n",
       "    </tr>\n",
       "  </tbody>\n",
       "</table>\n",
       "<p>7066 rows × 3 columns</p>\n",
       "</div>"
      ],
      "text/plain": [
       "         imagen                                               path  \\\n",
       "0     10004.jpg  c:\\Users\\Usuario\\Desktop\\Proyecto CNN alegres\\...   \n",
       "1     10019.jpg  c:\\Users\\Usuario\\Desktop\\Proyecto CNN alegres\\...   \n",
       "2     10023.jpg  c:\\Users\\Usuario\\Desktop\\Proyecto CNN alegres\\...   \n",
       "3     10029.jpg  c:\\Users\\Usuario\\Desktop\\Proyecto CNN alegres\\...   \n",
       "4      1003.jpg  c:\\Users\\Usuario\\Desktop\\Proyecto CNN alegres\\...   \n",
       "...         ...                                                ...   \n",
       "7061   9977.jpg  c:\\Users\\Usuario\\Desktop\\Proyecto CNN alegres\\...   \n",
       "7062   9979.jpg  c:\\Users\\Usuario\\Desktop\\Proyecto CNN alegres\\...   \n",
       "7063   9982.jpg  c:\\Users\\Usuario\\Desktop\\Proyecto CNN alegres\\...   \n",
       "7064   9984.jpg  c:\\Users\\Usuario\\Desktop\\Proyecto CNN alegres\\...   \n",
       "7065   9993.jpg  c:\\Users\\Usuario\\Desktop\\Proyecto CNN alegres\\...   \n",
       "\n",
       "                                               imagenes  \n",
       "0     [[1, 1, 1, 2, 7, 15, 16, 9, 11, 14, 13, 14, 31...  \n",
       "1     [[159, 157, 158, 166, 170, 170, 172, 171, 166,...  \n",
       "2     [[195, 198, 193, 190, 140, 70, 54, 88, 169, 21...  \n",
       "3     [[41, 48, 57, 66, 68, 67, 75, 85, 94, 105, 109...  \n",
       "4     [[44, 33, 21, 23, 29, 29, 34, 37, 40, 40, 45, ...  \n",
       "...                                                 ...  \n",
       "7061  [[178, 139, 130, 131, 159, 188, 183, 239, 249,...  \n",
       "7062  [[243, 243, 238, 196, 185, 176, 168, 162, 157,...  \n",
       "7063  [[203, 229, 234, 238, 233, 232, 238, 235, 229,...  \n",
       "7064  [[57, 56, 57, 63, 61, 56, 58, 58, 61, 72, 69, ...  \n",
       "7065  [[107, 111, 106, 119, 105, 13, 6, 10, 9, 13, 1...  \n",
       "\n",
       "[7066 rows x 3 columns]"
      ]
     },
     "execution_count": 65,
     "metadata": {},
     "output_type": "execute_result"
    }
   ],
   "source": [
    "df_test"
   ]
  },
  {
   "cell_type": "code",
   "execution_count": null,
   "metadata": {},
   "outputs": [],
   "source": [
    "pred_test_rounded = np.round(y_pred)"
   ]
  },
  {
   "cell_type": "code",
   "execution_count": null,
   "metadata": {},
   "outputs": [
    {
     "data": {
      "text/plain": [
       "array([[0., 0., 0., ..., 0., 0., 0.],\n",
       "       [0., 0., 0., ..., 0., 0., 0.],\n",
       "       [0., 0., 0., ..., 0., 0., 0.],\n",
       "       ...,\n",
       "       [0., 0., 0., ..., 0., 0., 0.],\n",
       "       [0., 0., 0., ..., 0., 0., 0.],\n",
       "       [0., 0., 0., ..., 0., 0., 0.]], dtype=float32)"
      ]
     },
     "execution_count": 106,
     "metadata": {},
     "output_type": "execute_result"
    }
   ],
   "source": [
    "pred_test_rounded"
   ]
  },
  {
   "cell_type": "code",
   "execution_count": null,
   "metadata": {},
   "outputs": [],
   "source": [
    "label_dict = {0: 'angry', 1: 'disgust', 2: \"fear\", 3: \"happy\", 4:\"neutral\", 5:\"sad\", 6:\"surprise\"}\n",
    "\n",
    "pred_test_label = np.argmax(y_pred, axis=1)\n"
   ]
  },
  {
   "cell_type": "code",
   "execution_count": null,
   "metadata": {},
   "outputs": [
    {
     "data": {
      "text/plain": [
       "0"
      ]
     },
     "execution_count": 119,
     "metadata": {},
     "output_type": "execute_result"
    }
   ],
   "source": [
    "pred_test_label[0]"
   ]
  },
  {
   "cell_type": "code",
   "execution_count": null,
   "metadata": {},
   "outputs": [],
   "source": [
    "df_predicciones = pd.DataFrame(pred_test_label, columns=['label'])\n",
    "\n",
    "df_predicciones['label'] = df_predicciones['label'].map(label_dict)"
   ]
  },
  {
   "cell_type": "code",
   "execution_count": null,
   "metadata": {},
   "outputs": [
    {
     "name": "stdout",
     "output_type": "stream",
     "text": [
      "[0. 0. 0. 0. 0. 0. 0.]\n"
     ]
    }
   ],
   "source": [
    "print(pred_test_rounded[0])"
   ]
  },
  {
   "cell_type": "code",
   "execution_count": null,
   "metadata": {},
   "outputs": [],
   "source": [
    "df_test[\"label\"] = df_predicciones['label']"
   ]
  },
  {
   "cell_type": "code",
   "execution_count": null,
   "metadata": {},
   "outputs": [
    {
     "data": {
      "text/html": [
       "<div>\n",
       "<style scoped>\n",
       "    .dataframe tbody tr th:only-of-type {\n",
       "        vertical-align: middle;\n",
       "    }\n",
       "\n",
       "    .dataframe tbody tr th {\n",
       "        vertical-align: top;\n",
       "    }\n",
       "\n",
       "    .dataframe thead th {\n",
       "        text-align: right;\n",
       "    }\n",
       "</style>\n",
       "<table border=\"1\" class=\"dataframe\">\n",
       "  <thead>\n",
       "    <tr style=\"text-align: right;\">\n",
       "      <th></th>\n",
       "      <th>imagen</th>\n",
       "      <th>path</th>\n",
       "      <th>imagenes</th>\n",
       "      <th>label</th>\n",
       "    </tr>\n",
       "  </thead>\n",
       "  <tbody>\n",
       "    <tr>\n",
       "      <th>0</th>\n",
       "      <td>10004</td>\n",
       "      <td>c:\\Users\\Usuario\\Desktop\\Proyecto CNN alegres\\...</td>\n",
       "      <td>[[1, 1, 1, 2, 7, 15, 16, 9, 11, 14, 13, 14, 31...</td>\n",
       "      <td>angry</td>\n",
       "    </tr>\n",
       "    <tr>\n",
       "      <th>1</th>\n",
       "      <td>10019</td>\n",
       "      <td>c:\\Users\\Usuario\\Desktop\\Proyecto CNN alegres\\...</td>\n",
       "      <td>[[159, 157, 158, 166, 170, 170, 172, 171, 166,...</td>\n",
       "      <td>angry</td>\n",
       "    </tr>\n",
       "    <tr>\n",
       "      <th>2</th>\n",
       "      <td>10023</td>\n",
       "      <td>c:\\Users\\Usuario\\Desktop\\Proyecto CNN alegres\\...</td>\n",
       "      <td>[[195, 198, 193, 190, 140, 70, 54, 88, 169, 21...</td>\n",
       "      <td>angry</td>\n",
       "    </tr>\n",
       "    <tr>\n",
       "      <th>3</th>\n",
       "      <td>10029</td>\n",
       "      <td>c:\\Users\\Usuario\\Desktop\\Proyecto CNN alegres\\...</td>\n",
       "      <td>[[41, 48, 57, 66, 68, 67, 75, 85, 94, 105, 109...</td>\n",
       "      <td>angry</td>\n",
       "    </tr>\n",
       "    <tr>\n",
       "      <th>4</th>\n",
       "      <td>1003</td>\n",
       "      <td>c:\\Users\\Usuario\\Desktop\\Proyecto CNN alegres\\...</td>\n",
       "      <td>[[44, 33, 21, 23, 29, 29, 34, 37, 40, 40, 45, ...</td>\n",
       "      <td>angry</td>\n",
       "    </tr>\n",
       "    <tr>\n",
       "      <th>...</th>\n",
       "      <td>...</td>\n",
       "      <td>...</td>\n",
       "      <td>...</td>\n",
       "      <td>...</td>\n",
       "    </tr>\n",
       "    <tr>\n",
       "      <th>7061</th>\n",
       "      <td>9977</td>\n",
       "      <td>c:\\Users\\Usuario\\Desktop\\Proyecto CNN alegres\\...</td>\n",
       "      <td>[[178, 139, 130, 131, 159, 188, 183, 239, 249,...</td>\n",
       "      <td>angry</td>\n",
       "    </tr>\n",
       "    <tr>\n",
       "      <th>7062</th>\n",
       "      <td>9979</td>\n",
       "      <td>c:\\Users\\Usuario\\Desktop\\Proyecto CNN alegres\\...</td>\n",
       "      <td>[[243, 243, 238, 196, 185, 176, 168, 162, 157,...</td>\n",
       "      <td>angry</td>\n",
       "    </tr>\n",
       "    <tr>\n",
       "      <th>7063</th>\n",
       "      <td>9982</td>\n",
       "      <td>c:\\Users\\Usuario\\Desktop\\Proyecto CNN alegres\\...</td>\n",
       "      <td>[[203, 229, 234, 238, 233, 232, 238, 235, 229,...</td>\n",
       "      <td>angry</td>\n",
       "    </tr>\n",
       "    <tr>\n",
       "      <th>7064</th>\n",
       "      <td>9984</td>\n",
       "      <td>c:\\Users\\Usuario\\Desktop\\Proyecto CNN alegres\\...</td>\n",
       "      <td>[[57, 56, 57, 63, 61, 56, 58, 58, 61, 72, 69, ...</td>\n",
       "      <td>angry</td>\n",
       "    </tr>\n",
       "    <tr>\n",
       "      <th>7065</th>\n",
       "      <td>9993</td>\n",
       "      <td>c:\\Users\\Usuario\\Desktop\\Proyecto CNN alegres\\...</td>\n",
       "      <td>[[107, 111, 106, 119, 105, 13, 6, 10, 9, 13, 1...</td>\n",
       "      <td>angry</td>\n",
       "    </tr>\n",
       "  </tbody>\n",
       "</table>\n",
       "<p>7066 rows × 4 columns</p>\n",
       "</div>"
      ],
      "text/plain": [
       "     imagen                                               path  \\\n",
       "0     10004  c:\\Users\\Usuario\\Desktop\\Proyecto CNN alegres\\...   \n",
       "1     10019  c:\\Users\\Usuario\\Desktop\\Proyecto CNN alegres\\...   \n",
       "2     10023  c:\\Users\\Usuario\\Desktop\\Proyecto CNN alegres\\...   \n",
       "3     10029  c:\\Users\\Usuario\\Desktop\\Proyecto CNN alegres\\...   \n",
       "4      1003  c:\\Users\\Usuario\\Desktop\\Proyecto CNN alegres\\...   \n",
       "...     ...                                                ...   \n",
       "7061   9977  c:\\Users\\Usuario\\Desktop\\Proyecto CNN alegres\\...   \n",
       "7062   9979  c:\\Users\\Usuario\\Desktop\\Proyecto CNN alegres\\...   \n",
       "7063   9982  c:\\Users\\Usuario\\Desktop\\Proyecto CNN alegres\\...   \n",
       "7064   9984  c:\\Users\\Usuario\\Desktop\\Proyecto CNN alegres\\...   \n",
       "7065   9993  c:\\Users\\Usuario\\Desktop\\Proyecto CNN alegres\\...   \n",
       "\n",
       "                                               imagenes  label  \n",
       "0     [[1, 1, 1, 2, 7, 15, 16, 9, 11, 14, 13, 14, 31...  angry  \n",
       "1     [[159, 157, 158, 166, 170, 170, 172, 171, 166,...  angry  \n",
       "2     [[195, 198, 193, 190, 140, 70, 54, 88, 169, 21...  angry  \n",
       "3     [[41, 48, 57, 66, 68, 67, 75, 85, 94, 105, 109...  angry  \n",
       "4     [[44, 33, 21, 23, 29, 29, 34, 37, 40, 40, 45, ...  angry  \n",
       "...                                                 ...    ...  \n",
       "7061  [[178, 139, 130, 131, 159, 188, 183, 239, 249,...  angry  \n",
       "7062  [[243, 243, 238, 196, 185, 176, 168, 162, 157,...  angry  \n",
       "7063  [[203, 229, 234, 238, 233, 232, 238, 235, 229,...  angry  \n",
       "7064  [[57, 56, 57, 63, 61, 56, 58, 58, 61, 72, 69, ...  angry  \n",
       "7065  [[107, 111, 106, 119, 105, 13, 6, 10, 9, 13, 1...  angry  \n",
       "\n",
       "[7066 rows x 4 columns]"
      ]
     },
     "execution_count": 116,
     "metadata": {},
     "output_type": "execute_result"
    }
   ],
   "source": [
    "df_test"
   ]
  },
  {
   "cell_type": "code",
   "execution_count": null,
   "metadata": {},
   "outputs": [],
   "source": [
    "df_submission = pd.DataFrame(df_test[[\"imagen\", \"label\"]])\n",
    "df_submission.to_csv(\"submission1.csv\", index = False)"
   ]
  }
 ],
 "metadata": {
  "kernelspec": {
   "display_name": "Python 3",
   "language": "python",
   "name": "python3"
  },
  "language_info": {
   "codemirror_mode": {
    "name": "ipython",
    "version": 3
   },
   "file_extension": ".py",
   "mimetype": "text/x-python",
   "name": "python",
   "nbconvert_exporter": "python",
   "pygments_lexer": "ipython3",
   "version": "3.11.5"
  }
 },
 "nbformat": 4,
 "nbformat_minor": 2
}
